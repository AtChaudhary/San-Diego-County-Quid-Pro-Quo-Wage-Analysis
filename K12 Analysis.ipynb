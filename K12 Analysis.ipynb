import pandas as pd
from scipy import stats

# Define the file path
file_path = r"G:\Shared drives\San Diego Taxpayers Educational Foundation\Data Team\Campaign Finance & Political Activity\Wage Datasets\K12 wage data\fullteach.csv"

# Load the dataset
k12 = pd.read_csv(file_path)

# Display the first few rows of the dataset to confirm it's loaded
k12.head()

# Filter rows where 'position' contains 'Teacher' and 'Status' is 'FT'
teacher_ft_jobs = k12[(k12['position'].str.contains('Teacher', case=False, na=False))]

# Get unique values of 'position' from the filtered rows
unique_teacher_ft_jobs = teacher_ft_jobs['position'].unique()

# Print the list of unique job titles
print(unique_teacher_ft_jobs)

#Filter for FT jobs and teachers from unique_teacher_ft_jobs
fil_k12 = k12[(k12['position'].isin(unique_teacher_ft_jobs))]# Reset the index to avoid issues with duplicate labels
fil_k12 = fil_k12.reset_index(drop=True)

# Create the 'switched' column that reflects whether the teacher switched districts even once
fil_k12['switched'] = fil_k12.groupby('name')['dist'].transform(lambda x: x.nunique() > 1)

# Show the first few rows of the updated dataset
fil_k12.head()

# Group by 'name' and calculate the difference between the most recent and first pay_and_benefits
fil_k12['pay_difference'] = fil_k12.groupby('name')['pay_and_benefits'].transform(lambda x: x.iloc[-1] - x.iloc[0])

# Filter out rows where there is only one entry of a name (i.e., those with no difference in years)
diff_k12 = fil_k12.groupby('name').filter(lambda x: len(x) > 1)

# Show the first few rows of the updated dataset
diff_k12.head()

# Separate the data into two groups based on the 'switched' column
true_group = diff_k12[diff_k12['switched'] == True]['pay_difference']
false_group = diff_k12[diff_k12['switched'] == False]['pay_difference']

# Perform an independent t-test
t_stat, p_value = stats.ttest_ind(true_group, false_group)

print(f"T-statistic: {t_stat}")
print(f"P-value: {p_value}")

